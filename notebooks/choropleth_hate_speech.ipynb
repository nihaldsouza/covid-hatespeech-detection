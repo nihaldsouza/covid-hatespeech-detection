{
 "cells": [
  {
   "cell_type": "code",
   "execution_count": 193,
   "metadata": {
    "colab": {
     "base_uri": "https://localhost:8080/"
    },
    "executionInfo": {
     "elapsed": 6721,
     "status": "ok",
     "timestamp": 1650818578520,
     "user": {
      "displayName": "Nihal D'Souza",
      "userId": "12561282971390830868"
     },
     "user_tz": 420
    },
    "id": "3pzG8flAdClK",
    "outputId": "0faff7f3-502e-4279-db36-2cd8ed57a32e"
   },
   "outputs": [],
   "source": [
    "# !pip install tweepy"
   ]
  },
  {
   "cell_type": "code",
   "execution_count": 1,
   "metadata": {
    "colab": {
     "base_uri": "https://localhost:8080/",
     "height": 236
    },
    "executionInfo": {
     "elapsed": 166,
     "status": "error",
     "timestamp": 1650818698124,
     "user": {
      "displayName": "Nihal D'Souza",
      "userId": "12561282971390830868"
     },
     "user_tz": 420
    },
    "id": "z6nr2n4-b-7R",
    "outputId": "1140f682-689e-4b23-d7b9-02aee9a64b4a"
   },
   "outputs": [],
   "source": [
    "\n",
    "import tweepy\n",
    "CONSUMER_KEY = ''\n",
    "CONSUMER_SECRET = ''\n",
    "ACCESS_TOKEN = ''\n",
    "ACCESS_SECRET  = ''\n",
    "BEARER_TOKEN = ''\n",
    "# Setup tweepy to authenticate with Twitter credentials:\n",
    "\n",
    "\n",
    "# Create the api to connect to twitter with your credentials.  Note that these are my credentials; you'll have to use your own\n",
    "\n",
    "client = tweepy.Client(\n",
    "    bearer_token=BEARER_TOKEN,\n",
    "    consumer_key=CONSUMER_KEY,\n",
    "    consumer_secret=CONSUMER_SECRET,\n",
    "    access_token=ACCESS_TOKEN,\n",
    "    access_token_secret=ACCESS_SECRET\n",
    ")"
   ]
  },
  {
   "cell_type": "code",
   "execution_count": 80,
   "metadata": {},
   "outputs": [],
   "source": [
    "geo_data_extended = []"
   ]
  },
  {
   "cell_type": "code",
   "execution_count": 3,
   "metadata": {},
   "outputs": [],
   "source": [
    "data_path = \"/Users/nihaldsouza/code/covid_hate/data/asonam_release_all_tweets.csv\""
   ]
  },
  {
   "cell_type": "code",
   "execution_count": 147,
   "metadata": {},
   "outputs": [
    {
     "data": {
      "text/html": [
       "<div>\n",
       "<style scoped>\n",
       "    .dataframe tbody tr th:only-of-type {\n",
       "        vertical-align: middle;\n",
       "    }\n",
       "\n",
       "    .dataframe tbody tr th {\n",
       "        vertical-align: top;\n",
       "    }\n",
       "\n",
       "    .dataframe thead th {\n",
       "        text-align: right;\n",
       "    }\n",
       "</style>\n",
       "<table border=\"1\" class=\"dataframe\">\n",
       "  <thead>\n",
       "    <tr style=\"text-align: right;\">\n",
       "      <th></th>\n",
       "      <th>Tweet ID</th>\n",
       "      <th>BERT_label</th>\n",
       "    </tr>\n",
       "  </thead>\n",
       "  <tbody>\n",
       "    <tr>\n",
       "      <th>0</th>\n",
       "      <td>1222268238354178050</td>\n",
       "      <td>0</td>\n",
       "    </tr>\n",
       "    <tr>\n",
       "      <th>1</th>\n",
       "      <td>1222275145332473856</td>\n",
       "      <td>0</td>\n",
       "    </tr>\n",
       "    <tr>\n",
       "      <th>2</th>\n",
       "      <td>1222277574111436801</td>\n",
       "      <td>0</td>\n",
       "    </tr>\n",
       "    <tr>\n",
       "      <th>3</th>\n",
       "      <td>1222273373461536769</td>\n",
       "      <td>0</td>\n",
       "    </tr>\n",
       "    <tr>\n",
       "      <th>4</th>\n",
       "      <td>1222263502578036737</td>\n",
       "      <td>0</td>\n",
       "    </tr>\n",
       "  </tbody>\n",
       "</table>\n",
       "</div>"
      ],
      "text/plain": [
       "              Tweet ID  BERT_label\n",
       "0  1222268238354178050           0\n",
       "1  1222275145332473856           0\n",
       "2  1222277574111436801           0\n",
       "3  1222273373461536769           0\n",
       "4  1222263502578036737           0"
      ]
     },
     "execution_count": 147,
     "metadata": {},
     "output_type": "execute_result"
    }
   ],
   "source": [
    "import pandas as pd\n",
    "\n",
    "data_pd = pd.read_csv(data_path, skiprows=range(1,3003100), nrows=1000000)\n",
    "data_pd.head(5)"
   ]
  },
  {
   "cell_type": "code",
   "execution_count": 148,
   "metadata": {},
   "outputs": [
    {
     "data": {
      "text/plain": [
       "(17021, 2)"
      ]
     },
     "execution_count": 148,
     "metadata": {},
     "output_type": "execute_result"
    }
   ],
   "source": [
    "hate_tweets_pd = data_pd[data_pd['BERT_label'] == 2]\n",
    "hate_tweets_pd.shape"
   ]
  },
  {
   "cell_type": "code",
   "execution_count": 149,
   "metadata": {},
   "outputs": [],
   "source": [
    "import time\n",
    "from tqdm.auto import tqdm\n",
    "\n",
    "def get_location(tweet_id_list, label_list):\n",
    "    header = {\"Authorization\": \"Bearer \"+BEARER_TOKEN}\n",
    "    geo_data = []\n",
    "    for i, tweet_id in tqdm(enumerate(tweet_id_list), total=len(tweet_id_list)):\n",
    "        request_url = f\"https://api.twitter.com/2/tweets?ids={tweet_id}&expansions=geo.place_id&place.fields=contained_within,country,country_code,full_name,geo,id,name,place_type\"\n",
    "        response = requests.get(request_url, headers=header).json()\n",
    "        time.sleep(1)\n",
    "        if 'includes' in response:\n",
    "            #Geolocation available\n",
    "            geo_data.append((label_list[i], response['includes']['places'][0]))\n",
    "        else:\n",
    "            continue\n",
    "    return geo_data"
   ]
  },
  {
   "cell_type": "code",
   "execution_count": 150,
   "metadata": {},
   "outputs": [],
   "source": [
    "tweet_ids = hate_tweets_pd['Tweet ID'].tolist()\n",
    "labels = hate_tweets_pd['BERT_label'].tolist()"
   ]
  },
  {
   "cell_type": "code",
   "execution_count": 151,
   "metadata": {},
   "outputs": [
    {
     "data": {
      "application/vnd.jupyter.widget-view+json": {
       "model_id": "35ad42887ea240c8a0a8e6e684c259fd",
       "version_major": 2,
       "version_minor": 0
      },
      "text/plain": [
       "  0%|          | 0/17021 [00:00<?, ?it/s]"
      ]
     },
     "metadata": {},
     "output_type": "display_data"
    }
   ],
   "source": [
    "geo_data = get_location(tweet_ids, labels)"
   ]
  },
  {
   "cell_type": "code",
   "execution_count": 152,
   "metadata": {},
   "outputs": [
    {
     "data": {
      "text/plain": [
       "374"
      ]
     },
     "execution_count": 152,
     "metadata": {},
     "output_type": "execute_result"
    }
   ],
   "source": [
    "geo_data_extended.extend(geo_data)\n",
    "#Count of hate speech tweets with geo data\n",
    "len(geo_data_extended)"
   ]
  },
  {
   "cell_type": "code",
   "execution_count": 153,
   "metadata": {},
   "outputs": [],
   "source": [
    "geo_data = geo_data_extended"
   ]
  },
  {
   "cell_type": "code",
   "execution_count": 213,
   "metadata": {},
   "outputs": [
    {
     "data": {
      "text/plain": [
       "[(2,\n",
       "  {'country_code': 'BW',\n",
       "   'country': 'Botswana',\n",
       "   'place_type': 'country',\n",
       "   'name': 'Botswana',\n",
       "   'full_name': 'Botswana',\n",
       "   'geo': {'type': 'Feature',\n",
       "    'bbox': [19.9976747, -26.9070352, 29.371142, -17.7782297],\n",
       "    'properties': {}},\n",
       "   'id': '8a927a7056322151'}),\n",
       " (2,\n",
       "  {'country_code': 'US',\n",
       "   'country': 'Etats-Unis',\n",
       "   'place_type': 'city',\n",
       "   'name': 'Washington',\n",
       "   'full_name': 'Washington, DC',\n",
       "   'geo': {'type': 'Feature',\n",
       "    'bbox': [-77.119401, 38.801826, -76.909396, 38.9953797],\n",
       "    'properties': {}},\n",
       "   'id': '01fbe706f872cb32'}),\n",
       " (2,\n",
       "  {'full_name': 'Sale, England',\n",
       "   'name': 'Sale',\n",
       "   'place_type': 'city',\n",
       "   'id': '74790dfe0c08c72f',\n",
       "   'country': 'Royaume-Uni',\n",
       "   'country_code': 'GB',\n",
       "   'geo': {'type': 'Feature',\n",
       "    'bbox': [-2.3798084, 53.358611, -2.2737406, 53.4417876],\n",
       "    'properties': {}}}),\n",
       " (2,\n",
       "  {'place_type': 'city',\n",
       "   'id': '8279f00eacbd9f3b',\n",
       "   'full_name': 'Teaneck, NJ',\n",
       "   'geo': {'type': 'Feature',\n",
       "    'bbox': [-74.036896, 40.859865, -73.987236, 40.917057],\n",
       "    'properties': {}},\n",
       "   'country_code': 'US',\n",
       "   'name': 'Teaneck',\n",
       "   'country': 'Etats-Unis'}),\n",
       " (2,\n",
       "  {'country_code': 'US',\n",
       "   'geo': {'type': 'Feature',\n",
       "    'bbox': [-90.800234, 37.913276, -90.725462, 37.95386],\n",
       "    'properties': {}},\n",
       "   'country': 'Etats-Unis',\n",
       "   'place_type': 'city',\n",
       "   'full_name': 'Potosi, MO',\n",
       "   'name': 'Potosi',\n",
       "   'id': '2f9b748cc6822f3e'})]"
      ]
     },
     "execution_count": 213,
     "metadata": {},
     "output_type": "execute_result"
    }
   ],
   "source": [
    "geo_data[:5]"
   ]
  },
  {
   "cell_type": "code",
   "execution_count": 154,
   "metadata": {},
   "outputs": [],
   "source": [
    "def parse_geo_hate(geo_hate_data):\n",
    "    geo_data_list = []\n",
    "    for _, geo_data in geo_hate_data:\n",
    "        geo_data_list.append([geo_data['country'], geo_data['country_code']])\n",
    "    return geo_data_list"
   ]
  },
  {
   "cell_type": "code",
   "execution_count": 155,
   "metadata": {},
   "outputs": [
    {
     "data": {
      "text/html": [
       "<div>\n",
       "<style scoped>\n",
       "    .dataframe tbody tr th:only-of-type {\n",
       "        vertical-align: middle;\n",
       "    }\n",
       "\n",
       "    .dataframe tbody tr th {\n",
       "        vertical-align: top;\n",
       "    }\n",
       "\n",
       "    .dataframe thead th {\n",
       "        text-align: right;\n",
       "    }\n",
       "</style>\n",
       "<table border=\"1\" class=\"dataframe\">\n",
       "  <thead>\n",
       "    <tr style=\"text-align: right;\">\n",
       "      <th></th>\n",
       "      <th>country</th>\n",
       "      <th>country_code</th>\n",
       "    </tr>\n",
       "  </thead>\n",
       "  <tbody>\n",
       "    <tr>\n",
       "      <th>0</th>\n",
       "      <td>Botswana</td>\n",
       "      <td>BW</td>\n",
       "    </tr>\n",
       "    <tr>\n",
       "      <th>1</th>\n",
       "      <td>Etats-Unis</td>\n",
       "      <td>US</td>\n",
       "    </tr>\n",
       "    <tr>\n",
       "      <th>2</th>\n",
       "      <td>Royaume-Uni</td>\n",
       "      <td>GB</td>\n",
       "    </tr>\n",
       "    <tr>\n",
       "      <th>3</th>\n",
       "      <td>Etats-Unis</td>\n",
       "      <td>US</td>\n",
       "    </tr>\n",
       "    <tr>\n",
       "      <th>4</th>\n",
       "      <td>Etats-Unis</td>\n",
       "      <td>US</td>\n",
       "    </tr>\n",
       "    <tr>\n",
       "      <th>...</th>\n",
       "      <td>...</td>\n",
       "      <td>...</td>\n",
       "    </tr>\n",
       "    <tr>\n",
       "      <th>369</th>\n",
       "      <td>Inde</td>\n",
       "      <td>IN</td>\n",
       "    </tr>\n",
       "    <tr>\n",
       "      <th>370</th>\n",
       "      <td>Etats-Unis</td>\n",
       "      <td>US</td>\n",
       "    </tr>\n",
       "    <tr>\n",
       "      <th>371</th>\n",
       "      <td>Etats-Unis</td>\n",
       "      <td>US</td>\n",
       "    </tr>\n",
       "    <tr>\n",
       "      <th>372</th>\n",
       "      <td>Etats-Unis</td>\n",
       "      <td>US</td>\n",
       "    </tr>\n",
       "    <tr>\n",
       "      <th>373</th>\n",
       "      <td>Etats-Unis</td>\n",
       "      <td>US</td>\n",
       "    </tr>\n",
       "  </tbody>\n",
       "</table>\n",
       "<p>374 rows × 2 columns</p>\n",
       "</div>"
      ],
      "text/plain": [
       "         country country_code\n",
       "0       Botswana           BW\n",
       "1     Etats-Unis           US\n",
       "2    Royaume-Uni           GB\n",
       "3     Etats-Unis           US\n",
       "4     Etats-Unis           US\n",
       "..           ...          ...\n",
       "369         Inde           IN\n",
       "370   Etats-Unis           US\n",
       "371   Etats-Unis           US\n",
       "372   Etats-Unis           US\n",
       "373   Etats-Unis           US\n",
       "\n",
       "[374 rows x 2 columns]"
      ]
     },
     "execution_count": 155,
     "metadata": {},
     "output_type": "execute_result"
    }
   ],
   "source": [
    "country_code_hate_count = parse_geo_hate(geo_data)\n",
    "column_names = ['country', 'country_code']\n",
    "country_hate_pd = pd.DataFrame(country_code_hate_count, columns = column_names)\n",
    "country_hate_pd"
   ]
  },
  {
   "cell_type": "code",
   "execution_count": 212,
   "metadata": {},
   "outputs": [],
   "source": [
    "country_hate_count_pd = country_hate_pd.groupby(['country_code']).size().reset_index(name='counts')"
   ]
  },
  {
   "cell_type": "code",
   "execution_count": 157,
   "metadata": {},
   "outputs": [],
   "source": [
    "import json\n",
    "\n",
    "f = open('utils/iso3.json')\n",
    "code_map = json.load(f)\n",
    "f.close()\n",
    "\n",
    "f = open('utils/names.json')\n",
    "country_name_map = json.load(f)\n",
    "f.close()"
   ]
  },
  {
   "cell_type": "code",
   "execution_count": 158,
   "metadata": {},
   "outputs": [
    {
     "data": {
      "text/html": [
       "<div>\n",
       "<style scoped>\n",
       "    .dataframe tbody tr th:only-of-type {\n",
       "        vertical-align: middle;\n",
       "    }\n",
       "\n",
       "    .dataframe tbody tr th {\n",
       "        vertical-align: top;\n",
       "    }\n",
       "\n",
       "    .dataframe thead th {\n",
       "        text-align: right;\n",
       "    }\n",
       "</style>\n",
       "<table border=\"1\" class=\"dataframe\">\n",
       "  <thead>\n",
       "    <tr style=\"text-align: right;\">\n",
       "      <th></th>\n",
       "      <th>country_code</th>\n",
       "      <th>counts</th>\n",
       "      <th>country_name</th>\n",
       "    </tr>\n",
       "  </thead>\n",
       "  <tbody>\n",
       "    <tr>\n",
       "      <th>0</th>\n",
       "      <td>ARE</td>\n",
       "      <td>1</td>\n",
       "      <td>United Arab Emirates</td>\n",
       "    </tr>\n",
       "    <tr>\n",
       "      <th>1</th>\n",
       "      <td>AUS</td>\n",
       "      <td>7</td>\n",
       "      <td>Australia</td>\n",
       "    </tr>\n",
       "    <tr>\n",
       "      <th>2</th>\n",
       "      <td>BEN</td>\n",
       "      <td>1</td>\n",
       "      <td>Benin</td>\n",
       "    </tr>\n",
       "    <tr>\n",
       "      <th>3</th>\n",
       "      <td>BRA</td>\n",
       "      <td>2</td>\n",
       "      <td>Brazil</td>\n",
       "    </tr>\n",
       "    <tr>\n",
       "      <th>4</th>\n",
       "      <td>BWA</td>\n",
       "      <td>1</td>\n",
       "      <td>Botswana</td>\n",
       "    </tr>\n",
       "    <tr>\n",
       "      <th>5</th>\n",
       "      <td>CAN</td>\n",
       "      <td>8</td>\n",
       "      <td>Canada</td>\n",
       "    </tr>\n",
       "    <tr>\n",
       "      <th>6</th>\n",
       "      <td>CHN</td>\n",
       "      <td>1</td>\n",
       "      <td>China</td>\n",
       "    </tr>\n",
       "    <tr>\n",
       "      <th>7</th>\n",
       "      <td>DEU</td>\n",
       "      <td>2</td>\n",
       "      <td>Germany</td>\n",
       "    </tr>\n",
       "    <tr>\n",
       "      <th>8</th>\n",
       "      <td>ESP</td>\n",
       "      <td>1</td>\n",
       "      <td>Spain</td>\n",
       "    </tr>\n",
       "    <tr>\n",
       "      <th>9</th>\n",
       "      <td>FRA</td>\n",
       "      <td>3</td>\n",
       "      <td>France</td>\n",
       "    </tr>\n",
       "    <tr>\n",
       "      <th>10</th>\n",
       "      <td>GBR</td>\n",
       "      <td>26</td>\n",
       "      <td>United Kingdom</td>\n",
       "    </tr>\n",
       "    <tr>\n",
       "      <th>11</th>\n",
       "      <td>GUF</td>\n",
       "      <td>1</td>\n",
       "      <td>French Guiana</td>\n",
       "    </tr>\n",
       "    <tr>\n",
       "      <th>12</th>\n",
       "      <td>GHA</td>\n",
       "      <td>2</td>\n",
       "      <td>Ghana</td>\n",
       "    </tr>\n",
       "    <tr>\n",
       "      <th>13</th>\n",
       "      <td>GRC</td>\n",
       "      <td>1</td>\n",
       "      <td>Greece</td>\n",
       "    </tr>\n",
       "    <tr>\n",
       "      <th>14</th>\n",
       "      <td>HKG</td>\n",
       "      <td>4</td>\n",
       "      <td>Hong Kong</td>\n",
       "    </tr>\n",
       "    <tr>\n",
       "      <th>15</th>\n",
       "      <td>IDN</td>\n",
       "      <td>3</td>\n",
       "      <td>Indonesia</td>\n",
       "    </tr>\n",
       "    <tr>\n",
       "      <th>16</th>\n",
       "      <td>IRL</td>\n",
       "      <td>2</td>\n",
       "      <td>Ireland</td>\n",
       "    </tr>\n",
       "    <tr>\n",
       "      <th>17</th>\n",
       "      <td>IND</td>\n",
       "      <td>26</td>\n",
       "      <td>India</td>\n",
       "    </tr>\n",
       "    <tr>\n",
       "      <th>18</th>\n",
       "      <td>ITA</td>\n",
       "      <td>1</td>\n",
       "      <td>Italy</td>\n",
       "    </tr>\n",
       "    <tr>\n",
       "      <th>19</th>\n",
       "      <td>JAM</td>\n",
       "      <td>1</td>\n",
       "      <td>Jamaica</td>\n",
       "    </tr>\n",
       "    <tr>\n",
       "      <th>20</th>\n",
       "      <td>JPN</td>\n",
       "      <td>1</td>\n",
       "      <td>Japan</td>\n",
       "    </tr>\n",
       "    <tr>\n",
       "      <th>21</th>\n",
       "      <td>KEN</td>\n",
       "      <td>6</td>\n",
       "      <td>Kenya</td>\n",
       "    </tr>\n",
       "    <tr>\n",
       "      <th>22</th>\n",
       "      <td>LBN</td>\n",
       "      <td>1</td>\n",
       "      <td>Lebanon</td>\n",
       "    </tr>\n",
       "    <tr>\n",
       "      <th>23</th>\n",
       "      <td>LKA</td>\n",
       "      <td>1</td>\n",
       "      <td>Sri Lanka</td>\n",
       "    </tr>\n",
       "    <tr>\n",
       "      <th>24</th>\n",
       "      <td>MWI</td>\n",
       "      <td>1</td>\n",
       "      <td>Malawi</td>\n",
       "    </tr>\n",
       "    <tr>\n",
       "      <th>25</th>\n",
       "      <td>MYS</td>\n",
       "      <td>3</td>\n",
       "      <td>Malaysia</td>\n",
       "    </tr>\n",
       "    <tr>\n",
       "      <th>26</th>\n",
       "      <td>NAM</td>\n",
       "      <td>1</td>\n",
       "      <td>Namibia</td>\n",
       "    </tr>\n",
       "    <tr>\n",
       "      <th>27</th>\n",
       "      <td>NGA</td>\n",
       "      <td>15</td>\n",
       "      <td>Nigeria</td>\n",
       "    </tr>\n",
       "    <tr>\n",
       "      <th>28</th>\n",
       "      <td>NOR</td>\n",
       "      <td>1</td>\n",
       "      <td>Norway</td>\n",
       "    </tr>\n",
       "    <tr>\n",
       "      <th>29</th>\n",
       "      <td>PHL</td>\n",
       "      <td>8</td>\n",
       "      <td>Philippines</td>\n",
       "    </tr>\n",
       "    <tr>\n",
       "      <th>30</th>\n",
       "      <td>PRT</td>\n",
       "      <td>1</td>\n",
       "      <td>Portugal</td>\n",
       "    </tr>\n",
       "    <tr>\n",
       "      <th>31</th>\n",
       "      <td>TUR</td>\n",
       "      <td>1</td>\n",
       "      <td>Turkey</td>\n",
       "    </tr>\n",
       "    <tr>\n",
       "      <th>32</th>\n",
       "      <td>UGA</td>\n",
       "      <td>2</td>\n",
       "      <td>Uganda</td>\n",
       "    </tr>\n",
       "    <tr>\n",
       "      <th>33</th>\n",
       "      <td>USA</td>\n",
       "      <td>229</td>\n",
       "      <td>United States</td>\n",
       "    </tr>\n",
       "    <tr>\n",
       "      <th>34</th>\n",
       "      <td>VEN</td>\n",
       "      <td>1</td>\n",
       "      <td>Venezuela</td>\n",
       "    </tr>\n",
       "    <tr>\n",
       "      <th>35</th>\n",
       "      <td>VGB</td>\n",
       "      <td>1</td>\n",
       "      <td>British Virgin Islands</td>\n",
       "    </tr>\n",
       "    <tr>\n",
       "      <th>36</th>\n",
       "      <td>ZAF</td>\n",
       "      <td>7</td>\n",
       "      <td>South Africa</td>\n",
       "    </tr>\n",
       "  </tbody>\n",
       "</table>\n",
       "</div>"
      ],
      "text/plain": [
       "   country_code  counts            country_name\n",
       "0           ARE       1    United Arab Emirates\n",
       "1           AUS       7               Australia\n",
       "2           BEN       1                   Benin\n",
       "3           BRA       2                  Brazil\n",
       "4           BWA       1                Botswana\n",
       "5           CAN       8                  Canada\n",
       "6           CHN       1                   China\n",
       "7           DEU       2                 Germany\n",
       "8           ESP       1                   Spain\n",
       "9           FRA       3                  France\n",
       "10          GBR      26          United Kingdom\n",
       "11          GUF       1           French Guiana\n",
       "12          GHA       2                   Ghana\n",
       "13          GRC       1                  Greece\n",
       "14          HKG       4               Hong Kong\n",
       "15          IDN       3               Indonesia\n",
       "16          IRL       2                 Ireland\n",
       "17          IND      26                   India\n",
       "18          ITA       1                   Italy\n",
       "19          JAM       1                 Jamaica\n",
       "20          JPN       1                   Japan\n",
       "21          KEN       6                   Kenya\n",
       "22          LBN       1                 Lebanon\n",
       "23          LKA       1               Sri Lanka\n",
       "24          MWI       1                  Malawi\n",
       "25          MYS       3                Malaysia\n",
       "26          NAM       1                 Namibia\n",
       "27          NGA      15                 Nigeria\n",
       "28          NOR       1                  Norway\n",
       "29          PHL       8             Philippines\n",
       "30          PRT       1                Portugal\n",
       "31          TUR       1                  Turkey\n",
       "32          UGA       2                  Uganda\n",
       "33          USA     229           United States\n",
       "34          VEN       1               Venezuela\n",
       "35          VGB       1  British Virgin Islands\n",
       "36          ZAF       7            South Africa"
      ]
     },
     "execution_count": 158,
     "metadata": {},
     "output_type": "execute_result"
    }
   ],
   "source": [
    "#Convert ISO-2 to ISO-3\n",
    "country_hate_count_pd['country_name'] = country_hate_count_pd['country_code'].apply(lambda x: country_name_map[x])\n",
    "country_hate_count_pd['country_code'] = country_hate_count_pd['country_code'].apply(lambda x: code_map[x])\n",
    "country_hate_count_pd"
   ]
  },
  {
   "cell_type": "code",
   "execution_count": 159,
   "metadata": {},
   "outputs": [],
   "source": [
    "country_hate_count_pd.to_csv('data/country_wise_hate_count.csv')"
   ]
  },
  {
   "cell_type": "code",
   "execution_count": 160,
   "metadata": {},
   "outputs": [],
   "source": [
    "import plotly.io as pio\n",
    "pio.renderers.default = 'iframe'"
   ]
  },
  {
   "cell_type": "code",
   "execution_count": 199,
   "metadata": {},
   "outputs": [
    {
     "data": {
      "text/html": [
       "<iframe\n",
       "    scrolling=\"no\"\n",
       "    width=\"100%\"\n",
       "    height=\"545px\"\n",
       "    src=\"iframe_figures/figure_199.html\"\n",
       "    frameborder=\"0\"\n",
       "    allowfullscreen\n",
       "></iframe>\n"
      ]
     },
     "metadata": {},
     "output_type": "display_data"
    }
   ],
   "source": [
    "import plotly.express as px\n",
    "import plotly.graph_objects as go\n",
    "\n",
    "fig = go.Figure(data=go.Choropleth(\n",
    "    locations = country_hate_count_pd['country_code'],\n",
    "    z = country_hate_count_pd['counts'],\n",
    "    text = country_hate_count_pd['country_name'],\n",
    "    # locationmode = 'country names',\n",
    "    colorscale = 'Blues',\n",
    "    autocolorscale=False,\n",
    "    reversescale=False,\n",
    "    marker_line_color='darkgray',\n",
    "    marker_line_width=0.5,\n",
    "    # colorbar_tickprefix = '$',\n",
    "    colorbar_title = 'Hateful<br>Tweet Count',\n",
    "))\n",
    "fig.update_layout(\n",
    "    title_text='Global Distribution of COVID-19 Anti-Asian Hate Speech from Twitter',\n",
    "    geo=dict(\n",
    "        showframe=False,\n",
    "        showcoastlines=False,\n",
    "        projection_type='equirectangular'\n",
    "    ),\n",
    "    annotations = [dict(\n",
    "        x=0.55,\n",
    "        y=-0.1,\n",
    "        xref='paper',\n",
    "        yref='paper',\n",
    "        text='Source: <a href=\"https://arxiv.org/pdf/2005.12423.pdf\">\\\n",
    "            Racism is a Virus: Anti-Asian Hate and Counterspeech in Social Media during the COVID-19 Crisis</a>',\n",
    "        showarrow = False\n",
    "    )]\n",
    ")\n",
    "# fig.write_image('image.png')\n",
    "fig.show()"
   ]
  },
  {
   "cell_type": "code",
   "execution_count": 200,
   "metadata": {},
   "outputs": [],
   "source": [
    "fig.write_image('images/world_hate_tweet.png')"
   ]
  },
  {
   "cell_type": "markdown",
   "metadata": {},
   "source": [
    "### USA State-wise Distribution"
   ]
  },
  {
   "cell_type": "code",
   "execution_count": 201,
   "metadata": {},
   "outputs": [],
   "source": [
    "from collections import defaultdict\n",
    "\n",
    "def us_state_count(geo_data):\n",
    "    state_wise_count = defaultdict(int)\n",
    "    for _, data in geo_data:\n",
    "        if data['country_code'] == 'US':\n",
    "            state_wise_count[data['full_name'].split(', ')[1]] += 1\n",
    "    return state_wise_count"
   ]
  },
  {
   "cell_type": "code",
   "execution_count": 211,
   "metadata": {},
   "outputs": [
    {
     "data": {
      "text/plain": [
       "defaultdict(int,\n",
       "            {'DC': 1,\n",
       "             'NJ': 3,\n",
       "             'MO': 2,\n",
       "             'NY': 18,\n",
       "             'OH': 7,\n",
       "             'CA': 47,\n",
       "             'NC': 4,\n",
       "             'MD': 4,\n",
       "             'FL': 14,\n",
       "             'VA': 3,\n",
       "             'PA': 9,\n",
       "             'GA': 7,\n",
       "             'TX': 13,\n",
       "             'IN': 3,\n",
       "             'NM': 1,\n",
       "             'LA': 2,\n",
       "             'USA': 40,\n",
       "             'OK': 1,\n",
       "             'TN': 5,\n",
       "             'AZ': 4,\n",
       "             'RI': 2,\n",
       "             'IA': 2,\n",
       "             'HI': 2,\n",
       "             'MI': 2,\n",
       "             'CT': 2,\n",
       "             'CO': 1,\n",
       "             'MN': 1,\n",
       "             'IL': 4,\n",
       "             'WA': 3,\n",
       "             'MS': 1,\n",
       "             'OR': 3,\n",
       "             'MA': 7,\n",
       "             'KY': 1,\n",
       "             'NV': 3,\n",
       "             'WV': 2,\n",
       "             'UT': 1,\n",
       "             'SC': 1,\n",
       "             'AL': 1,\n",
       "             'WI': 1,\n",
       "             'NE': 1})"
      ]
     },
     "execution_count": 211,
     "metadata": {},
     "output_type": "execute_result"
    }
   ],
   "source": [
    "us_geo_data = us_state_count(geo_data)\n",
    "state_list = us_geo_data.keys()\n",
    "state_count = us_geo_data.values()\n",
    "us_geo_data"
   ]
  },
  {
   "cell_type": "code",
   "execution_count": 209,
   "metadata": {},
   "outputs": [
    {
     "data": {
      "text/html": [
       "<iframe\n",
       "    scrolling=\"no\"\n",
       "    width=\"100%\"\n",
       "    height=\"545px\"\n",
       "    src=\"iframe_figures/figure_209.html\"\n",
       "    frameborder=\"0\"\n",
       "    allowfullscreen\n",
       "></iframe>\n"
      ]
     },
     "metadata": {},
     "output_type": "display_data"
    }
   ],
   "source": [
    "fig_state = px.choropleth(locations=state_list, locationmode=\"USA-states\", color=state_count, scope=\"usa\", \n",
    "                    color_continuous_scale=\"OrRd\", title = 'USA Statewise Distribution of COVID-19 Anti-Asian Hate Speech from Twitter',\n",
    "                         labels={'color': 'Hateful Tweet<br>Count'})\n",
    "fig_state.show()"
   ]
  },
  {
   "cell_type": "code",
   "execution_count": null,
   "metadata": {},
   "outputs": [],
   "source": [
    "fig_state.write_image('./images/usa_hate_tweet.png')"
   ]
  },
  {
   "cell_type": "code",
   "execution_count": null,
   "metadata": {},
   "outputs": [],
   "source": []
  }
 ],
 "metadata": {
  "colab": {
   "authorship_tag": "ABX9TyPZ3LE7H61XOOerHHMLUGvT",
   "collapsed_sections": [],
   "name": "Untitled0.ipynb",
   "provenance": []
  },
  "kernelspec": {
   "display_name": "Python 3 (ipykernel)",
   "language": "python",
   "name": "python3"
  },
  "language_info": {
   "codemirror_mode": {
    "name": "ipython",
    "version": 3
   },
   "file_extension": ".py",
   "mimetype": "text/x-python",
   "name": "python",
   "nbconvert_exporter": "python",
   "pygments_lexer": "ipython3",
   "version": "3.9.10"
  }
 },
 "nbformat": 4,
 "nbformat_minor": 4
}
